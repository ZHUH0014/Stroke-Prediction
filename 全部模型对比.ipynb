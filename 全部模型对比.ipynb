{
 "cells": [
  {
   "cell_type": "code",
   "execution_count": 1,
   "metadata": {},
   "outputs": [],
   "source": [
    "import pandas as pd\n",
    "import matplotlib.pyplot as plt\n",
    "import seaborn as sns\n",
    "import numpy as np\n",
    "accuracy=[95.38341158059468,95.14866979655712,\n",
    "  95.22691705790297,95.22691705790297,\n",
    " 94.99217527386541, 94.91392801251956,\n",
    " 95.38341158059468, 95.46165884194053,\n",
    "  91.78403755868545,91.78403755868545]"
   ]
  },
  {
   "cell_type": "code",
   "execution_count": 4,
   "metadata": {},
   "outputs": [
    {
     "data": {
      "text/plain": [
       "[95.38341158059468,\n",
       " 95.14866979655712,\n",
       " 95.22691705790297,\n",
       " 95.22691705790297,\n",
       " 94.99217527386541,\n",
       " 94.91392801251956,\n",
       " 95.38341158059468,\n",
       " 95.46165884194053,\n",
       " 91.78403755868545,\n",
       " 91.78403755868545]"
      ]
     },
     "execution_count": 4,
     "metadata": {},
     "output_type": "execute_result"
    }
   ],
   "source": [
    "accuracy"
   ]
  },
  {
   "cell_type": "code",
   "execution_count": 5,
   "metadata": {},
   "outputs": [
    {
     "data": {
      "text/html": [
       "<div>\n",
       "<style scoped>\n",
       "    .dataframe tbody tr th:only-of-type {\n",
       "        vertical-align: middle;\n",
       "    }\n",
       "\n",
       "    .dataframe tbody tr th {\n",
       "        vertical-align: top;\n",
       "    }\n",
       "\n",
       "    .dataframe thead th {\n",
       "        text-align: right;\n",
       "    }\n",
       "</style>\n",
       "<table border=\"1\" class=\"dataframe\">\n",
       "  <thead>\n",
       "    <tr style=\"text-align: right;\">\n",
       "      <th></th>\n",
       "      <th>Algorithm</th>\n",
       "      <th>Accuracy score</th>\n",
       "    </tr>\n",
       "  </thead>\n",
       "  <tbody>\n",
       "    <tr>\n",
       "      <th>0</th>\n",
       "      <td>Random forest</td>\n",
       "      <td>95.383412</td>\n",
       "    </tr>\n",
       "    <tr>\n",
       "      <th>1</th>\n",
       "      <td>FE-Random forest</td>\n",
       "      <td>95.148670</td>\n",
       "    </tr>\n",
       "    <tr>\n",
       "      <th>2</th>\n",
       "      <td>GradientBoost</td>\n",
       "      <td>95.226917</td>\n",
       "    </tr>\n",
       "    <tr>\n",
       "      <th>3</th>\n",
       "      <td>FE-GradientBoost</td>\n",
       "      <td>95.226917</td>\n",
       "    </tr>\n",
       "    <tr>\n",
       "      <th>4</th>\n",
       "      <td>LogisticRegression</td>\n",
       "      <td>94.992175</td>\n",
       "    </tr>\n",
       "    <tr>\n",
       "      <th>5</th>\n",
       "      <td>FE-LogisticRegression</td>\n",
       "      <td>94.913928</td>\n",
       "    </tr>\n",
       "    <tr>\n",
       "      <th>6</th>\n",
       "      <td>AdaBoost</td>\n",
       "      <td>95.383412</td>\n",
       "    </tr>\n",
       "    <tr>\n",
       "      <th>7</th>\n",
       "      <td>FE-AdaBoost</td>\n",
       "      <td>95.461659</td>\n",
       "    </tr>\n",
       "    <tr>\n",
       "      <th>8</th>\n",
       "      <td>Decision Tree</td>\n",
       "      <td>91.784038</td>\n",
       "    </tr>\n",
       "    <tr>\n",
       "      <th>9</th>\n",
       "      <td>FE-Decision Tree</td>\n",
       "      <td>91.784038</td>\n",
       "    </tr>\n",
       "  </tbody>\n",
       "</table>\n",
       "</div>"
      ],
      "text/plain": [
       "               Algorithm  Accuracy score\n",
       "0          Random forest       95.383412\n",
       "1       FE-Random forest       95.148670\n",
       "2          GradientBoost       95.226917\n",
       "3       FE-GradientBoost       95.226917\n",
       "4     LogisticRegression       94.992175\n",
       "5  FE-LogisticRegression       94.913928\n",
       "6               AdaBoost       95.383412\n",
       "7            FE-AdaBoost       95.461659\n",
       "8          Decision Tree       91.784038\n",
       "9       FE-Decision Tree       91.784038"
      ]
     },
     "execution_count": 5,
     "metadata": {},
     "output_type": "execute_result"
    }
   ],
   "source": [
    "score={'Algorithm':['Random forest','FE-Random forest','GradientBoost','FE-GradientBoost','LogisticRegression','FE-LogisticRegression','AdaBoost','FE-AdaBoost','Decision Tree','FE-Decision Tree']\n",
    "       ,'Accuracy score':\n",
    "[95.38341158059468,\n",
    " 95.14866979655712,\n",
    " 95.22691705790297,\n",
    " 95.22691705790297,\n",
    " 94.99217527386541,\n",
    " 94.91392801251956,\n",
    " 95.38341158059468,\n",
    " 95.46165884194053,\n",
    " 91.78403755868545,\n",
    " 91.78403755868545]}\n",
    "pd.DataFrame(score)"
   ]
  },
  {
   "cell_type": "code",
   "execution_count": null,
   "metadata": {},
   "outputs": [],
   "source": []
  }
 ],
 "metadata": {
  "kernelspec": {
   "display_name": "Python 3",
   "language": "python",
   "name": "python3"
  },
  "language_info": {
   "codemirror_mode": {
    "name": "ipython",
    "version": 3
   },
   "file_extension": ".py",
   "mimetype": "text/x-python",
   "name": "python",
   "nbconvert_exporter": "python",
   "pygments_lexer": "ipython3",
   "version": "3.8.5"
  }
 },
 "nbformat": 4,
 "nbformat_minor": 4
}
